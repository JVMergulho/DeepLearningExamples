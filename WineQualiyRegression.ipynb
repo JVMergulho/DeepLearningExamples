{
  "nbformat": 4,
  "nbformat_minor": 0,
  "metadata": {
    "colab": {
      "provenance": [],
      "gpuType": "T4",
      "authorship_tag": "ABX9TyNKI/+T5SWpHdgdk1cCUjNr",
      "include_colab_link": true
    },
    "kernelspec": {
      "name": "python3",
      "display_name": "Python 3"
    },
    "language_info": {
      "name": "python"
    },
    "accelerator": "GPU"
  },
  "cells": [
    {
      "cell_type": "markdown",
      "metadata": {
        "id": "view-in-github",
        "colab_type": "text"
      },
      "source": [
        "<a href=\"https://colab.research.google.com/github/JVMergulho/DeepLearningExamples/blob/main/WineQualiyRegression.ipynb\" target=\"_parent\"><img src=\"https://colab.research.google.com/assets/colab-badge.svg\" alt=\"Open In Colab\"/></a>"
      ]
    },
    {
      "cell_type": "markdown",
      "source": [
        "## Using the Wine Quality dataset form UCI ML Repository for a regression problem"
      ],
      "metadata": {
        "id": "VSQAKaCSevTM"
      }
    },
    {
      "cell_type": "code",
      "execution_count": 75,
      "metadata": {
        "colab": {
          "base_uri": "https://localhost:8080/"
        },
        "id": "2I9Yua_oeb5Z",
        "outputId": "089f24db-ed91-4a66-c1d0-9018b4f5def9"
      },
      "outputs": [
        {
          "output_type": "stream",
          "name": "stdout",
          "text": [
            "Requirement already satisfied: ucimlrepo in /usr/local/lib/python3.11/dist-packages (0.0.7)\n",
            "Requirement already satisfied: pandas>=1.0.0 in /usr/local/lib/python3.11/dist-packages (from ucimlrepo) (2.2.2)\n",
            "Requirement already satisfied: certifi>=2020.12.5 in /usr/local/lib/python3.11/dist-packages (from ucimlrepo) (2025.1.31)\n",
            "Requirement already satisfied: numpy>=1.23.2 in /usr/local/lib/python3.11/dist-packages (from pandas>=1.0.0->ucimlrepo) (1.26.4)\n",
            "Requirement already satisfied: python-dateutil>=2.8.2 in /usr/local/lib/python3.11/dist-packages (from pandas>=1.0.0->ucimlrepo) (2.8.2)\n",
            "Requirement already satisfied: pytz>=2020.1 in /usr/local/lib/python3.11/dist-packages (from pandas>=1.0.0->ucimlrepo) (2025.1)\n",
            "Requirement already satisfied: tzdata>=2022.7 in /usr/local/lib/python3.11/dist-packages (from pandas>=1.0.0->ucimlrepo) (2025.1)\n",
            "Requirement already satisfied: six>=1.5 in /usr/local/lib/python3.11/dist-packages (from python-dateutil>=2.8.2->pandas>=1.0.0->ucimlrepo) (1.17.0)\n"
          ]
        }
      ],
      "source": [
        "#imports\n",
        "!pip install ucimlrepo\n",
        "\n",
        "from ucimlrepo import fetch_ucirepo # Biblioteca para carregar datasets UCI\n",
        "\n",
        "from google.colab import files\n",
        "\n",
        "import torch\n",
        "from torch import nn\n",
        "from torch.utils.data import DataLoader, TensorDataset, random_split\n",
        "from sklearn.preprocessing import StandardScaler"
      ]
    },
    {
      "cell_type": "code",
      "source": [
        "# fetch dataset\n",
        "wine_quality = fetch_ucirepo(id=186)\n",
        "\n",
        "# data (as pandas dataframes)\n",
        "X = wine_quality.data.features.to_numpy()\n",
        "y = wine_quality.data.targets.to_numpy()\n",
        "\n",
        "# metadata\n",
        "print(wine_quality.metadata)\n",
        "\n",
        "# variable information\n",
        "print(wine_quality.variables)"
      ],
      "metadata": {
        "colab": {
          "base_uri": "https://localhost:8080/"
        },
        "id": "epS7HYMterLB",
        "outputId": "d84f13ff-05d7-45d9-8687-bd6f845e74ac"
      },
      "execution_count": 76,
      "outputs": [
        {
          "output_type": "stream",
          "name": "stdout",
          "text": [
            "{'uci_id': 186, 'name': 'Wine Quality', 'repository_url': 'https://archive.ics.uci.edu/dataset/186/wine+quality', 'data_url': 'https://archive.ics.uci.edu/static/public/186/data.csv', 'abstract': 'Two datasets are included, related to red and white vinho verde wine samples, from the north of Portugal. The goal is to model wine quality based on physicochemical tests (see [Cortez et al., 2009], http://www3.dsi.uminho.pt/pcortez/wine/).', 'area': 'Business', 'tasks': ['Classification', 'Regression'], 'characteristics': ['Multivariate'], 'num_instances': 4898, 'num_features': 11, 'feature_types': ['Real'], 'demographics': [], 'target_col': ['quality'], 'index_col': None, 'has_missing_values': 'no', 'missing_values_symbol': None, 'year_of_dataset_creation': 2009, 'last_updated': 'Wed Nov 15 2023', 'dataset_doi': '10.24432/C56S3T', 'creators': ['Paulo Cortez', 'A. Cerdeira', 'F. Almeida', 'T. Matos', 'J. Reis'], 'intro_paper': {'ID': 252, 'type': 'NATIVE', 'title': 'Modeling wine preferences by data mining from physicochemical properties', 'authors': 'P. Cortez, A. Cerdeira, Fernando Almeida, Telmo Matos, J. Reis', 'venue': 'Decision Support Systems', 'year': 2009, 'journal': None, 'DOI': None, 'URL': 'https://www.semanticscholar.org/paper/Modeling-wine-preferences-by-data-mining-from-Cortez-Cerdeira/bf15a0ccc14ac1deb5cea570c870389c16be019c', 'sha': None, 'corpus': None, 'arxiv': None, 'mag': None, 'acl': None, 'pmid': None, 'pmcid': None}, 'additional_info': {'summary': 'The two datasets are related to red and white variants of the Portuguese \"Vinho Verde\" wine. For more details, consult: http://www.vinhoverde.pt/en/ or the reference [Cortez et al., 2009].  Due to privacy and logistic issues, only physicochemical (inputs) and sensory (the output) variables are available (e.g. there is no data about grape types, wine brand, wine selling price, etc.).\\n\\nThese datasets can be viewed as classification or regression tasks.  The classes are ordered and not balanced (e.g. there are many more normal wines than excellent or poor ones). Outlier detection algorithms could be used to detect the few excellent or poor wines. Also, we are not sure if all input variables are relevant. So it could be interesting to test feature selection methods.\\n', 'purpose': None, 'funded_by': None, 'instances_represent': None, 'recommended_data_splits': None, 'sensitive_data': None, 'preprocessing_description': None, 'variable_info': 'For more information, read [Cortez et al., 2009].\\r\\nInput variables (based on physicochemical tests):\\r\\n   1 - fixed acidity\\r\\n   2 - volatile acidity\\r\\n   3 - citric acid\\r\\n   4 - residual sugar\\r\\n   5 - chlorides\\r\\n   6 - free sulfur dioxide\\r\\n   7 - total sulfur dioxide\\r\\n   8 - density\\r\\n   9 - pH\\r\\n   10 - sulphates\\r\\n   11 - alcohol\\r\\nOutput variable (based on sensory data): \\r\\n   12 - quality (score between 0 and 10)', 'citation': None}}\n",
            "                    name     role         type demographic  \\\n",
            "0          fixed_acidity  Feature   Continuous        None   \n",
            "1       volatile_acidity  Feature   Continuous        None   \n",
            "2            citric_acid  Feature   Continuous        None   \n",
            "3         residual_sugar  Feature   Continuous        None   \n",
            "4              chlorides  Feature   Continuous        None   \n",
            "5    free_sulfur_dioxide  Feature   Continuous        None   \n",
            "6   total_sulfur_dioxide  Feature   Continuous        None   \n",
            "7                density  Feature   Continuous        None   \n",
            "8                     pH  Feature   Continuous        None   \n",
            "9              sulphates  Feature   Continuous        None   \n",
            "10               alcohol  Feature   Continuous        None   \n",
            "11               quality   Target      Integer        None   \n",
            "12                 color    Other  Categorical        None   \n",
            "\n",
            "               description units missing_values  \n",
            "0                     None  None             no  \n",
            "1                     None  None             no  \n",
            "2                     None  None             no  \n",
            "3                     None  None             no  \n",
            "4                     None  None             no  \n",
            "5                     None  None             no  \n",
            "6                     None  None             no  \n",
            "7                     None  None             no  \n",
            "8                     None  None             no  \n",
            "9                     None  None             no  \n",
            "10                    None  None             no  \n",
            "11  score between 0 and 10  None             no  \n",
            "12            red or white  None             no  \n"
          ]
        }
      ]
    },
    {
      "cell_type": "code",
      "source": [
        "scaler = StandardScaler()\n",
        "X = scaler.fit_transform(X)\n",
        "\n",
        "X_tensor = torch.tensor(X, dtype=torch.float32)\n",
        "y_tensor = torch.tensor(y, dtype=torch.float32).view(-1, 1)"
      ],
      "metadata": {
        "id": "q-uM4gs0gjGo"
      },
      "execution_count": 77,
      "outputs": []
    },
    {
      "cell_type": "code",
      "source": [
        "dataset = TensorDataset(X_tensor, y_tensor)\n",
        "\n",
        "#Definir tamanhos das divisões\n",
        "train_size = int(0.7 * len(dataset))  # 70% para treino\n",
        "val_size = int(0.15 * len(dataset))   # 15% para validação\n",
        "test_size = len(dataset) - train_size - val_size  # 15% para teste\n",
        "\n",
        "#Dividir dataset\n",
        "train_dataset, val_dataset, test_dataset = random_split(dataset, [train_size, val_size, test_size])"
      ],
      "metadata": {
        "id": "AiVxr55PhZ5i"
      },
      "execution_count": 78,
      "outputs": []
    },
    {
      "cell_type": "code",
      "source": [
        "print(f\"Tamanho do treino: {len(train_dataset)}\")\n",
        "print(f\"Tamanho da validação: {len(val_dataset)}\")\n",
        "print(f\"Tamanho do teste: {len(test_dataset)}\")"
      ],
      "metadata": {
        "colab": {
          "base_uri": "https://localhost:8080/"
        },
        "id": "Yb0f0c32kCss",
        "outputId": "f65ff829-2b8c-4693-8441-01b64adc7109"
      },
      "execution_count": 79,
      "outputs": [
        {
          "output_type": "stream",
          "name": "stdout",
          "text": [
            "Tamanho do treino: 4547\n",
            "Tamanho da validação: 974\n",
            "Tamanho do teste: 976\n"
          ]
        }
      ]
    },
    {
      "cell_type": "code",
      "source": [
        "batch_size = 32\n",
        "train_loader = DataLoader(train_dataset, batch_size=batch_size, shuffle=True)\n",
        "val_loader = DataLoader(val_dataset, batch_size=batch_size, shuffle=False)\n",
        "test_loader = DataLoader(test_dataset, batch_size=batch_size, shuffle=False)"
      ],
      "metadata": {
        "id": "gaooBVqxj_zX"
      },
      "execution_count": 80,
      "outputs": []
    },
    {
      "cell_type": "code",
      "source": [
        "class WineModel(nn.Module):\n",
        "  def __init__(self, input_size):\n",
        "    super(WineModel, self).__init__()\n",
        "    self.Model = nn.Sequential(\n",
        "        nn.Linear(input_size, 64),\n",
        "        nn.ReLU(),\n",
        "        nn.Linear(64, 32),\n",
        "        nn.ReLU(),\n",
        "        nn.Linear(32,1)\n",
        "    )\n",
        "\n",
        "  def forward(self, x):\n",
        "      return self.Model(x)\n"
      ],
      "metadata": {
        "id": "SERsT4JHkuL9"
      },
      "execution_count": 81,
      "outputs": []
    },
    {
      "cell_type": "code",
      "source": [
        "#Instanciar modelo\n",
        "input_size = X.shape[1]  # Número de features\n",
        "model = WineModel(input_size)"
      ],
      "metadata": {
        "id": "5idwiUdbkzg9"
      },
      "execution_count": 82,
      "outputs": []
    },
    {
      "cell_type": "code",
      "source": [
        "# Definir função de perda e otimizador\n",
        "learning_rate = 0.001\n",
        "criterion = nn.MSELoss()\n",
        "optimizer = torch.optim.Adam(model.parameters(), lr=0.001)"
      ],
      "metadata": {
        "id": "PCRq0sObmyba"
      },
      "execution_count": 83,
      "outputs": []
    },
    {
      "cell_type": "code",
      "source": [
        "patience = 10  # Número de épocas sem melhora antes de parar\n",
        "num_max_epochs = 60 # Número máximo de épocas\n",
        "best_val_loss = float('inf')\n",
        "device = torch.device(\"cuda\" if torch.cuda.is_available() else \"cpu\")\n",
        "model.to(device)"
      ],
      "metadata": {
        "colab": {
          "base_uri": "https://localhost:8080/"
        },
        "id": "4rvRE2F3m-1N",
        "outputId": "b7f9225d-6623-4504-c9a7-af8ad6200534"
      },
      "execution_count": 84,
      "outputs": [
        {
          "output_type": "execute_result",
          "data": {
            "text/plain": [
              "WineModel(\n",
              "  (Model): Sequential(\n",
              "    (0): Linear(in_features=11, out_features=64, bias=True)\n",
              "    (1): ReLU()\n",
              "    (2): Linear(in_features=64, out_features=32, bias=True)\n",
              "    (3): ReLU()\n",
              "    (4): Linear(in_features=32, out_features=1, bias=True)\n",
              "  )\n",
              ")"
            ]
          },
          "metadata": {},
          "execution_count": 84
        }
      ]
    },
    {
      "cell_type": "code",
      "source": [
        "for epoch in range(num_max_epochs):\n",
        "    model.train()\n",
        "    train_loss = 0\n",
        "    for X_batch, y_batch in train_loader:\n",
        "        X_batch, y_batch = X_batch.to(device), y_batch.to(device)\n",
        "\n",
        "        optimizer.zero_grad()\n",
        "        y_pred = model(X_batch)\n",
        "        loss = criterion(y_pred, y_batch)\n",
        "        loss.backward()\n",
        "        optimizer.step()\n",
        "\n",
        "        train_loss += loss.item()\n",
        "\n",
        "    # Avaliação no conjunto de validação\n",
        "    model.eval()\n",
        "    val_loss = 0\n",
        "    with torch.no_grad():\n",
        "        for X_val, y_val in val_loader:\n",
        "            X_val, y_val = X_val.to(device), y_val.to(device)\n",
        "            y_val_pred = model(X_val)\n",
        "            val_loss += criterion(y_val_pred, y_val).item()\n",
        "\n",
        "    # Exibir progresso\n",
        "    print(f\"Época {epoch+1}/{num_epochs} - Perda treino: {train_loss/len(train_loader):.4f}, \"\n",
        "          f\"Perda validação: {val_loss/len(val_loader):.4f}\")\n",
        "\n",
        "    # Early Stopping: verificar se a perda de validação melhorou\n",
        "    if val_loss < best_val_loss:\n",
        "        best_val_loss = val_loss\n",
        "        counter = 0  # Resetar contador\n",
        "        best_model = model.state_dict()  # Salvar o melhor modelo\n",
        "    else:\n",
        "        counter += 1\n",
        "        if counter >= patience:\n",
        "            print(f\"\\nParando treinamento após {epoch+1} épocas. Early Stopping ativado.\")\n",
        "            break\n",
        "\n",
        "# Carregar o melhor modelo encontrado\n",
        "model.load_state_dict(best_model)\n",
        "print(\"Modelo carregado com os melhores pesos salvos!\")"
      ],
      "metadata": {
        "colab": {
          "base_uri": "https://localhost:8080/"
        },
        "id": "Y2F4SCZanGjL",
        "outputId": "abfb7e49-2131-46cf-fdd7-10afaf5fd8b3"
      },
      "execution_count": 85,
      "outputs": [
        {
          "output_type": "stream",
          "name": "stdout",
          "text": [
            "Época 1/50 - Perda treino: 12.1322, Perda validação: 1.9179\n",
            "Época 2/50 - Perda treino: 1.6144, Perda validação: 1.3145\n",
            "Época 3/50 - Perda treino: 1.2021, Perda validação: 1.0501\n",
            "Época 4/50 - Perda treino: 0.9453, Perda validação: 0.8520\n",
            "Época 5/50 - Perda treino: 0.7808, Perda validação: 0.7539\n",
            "Época 6/50 - Perda treino: 0.6553, Perda validação: 0.6554\n",
            "Época 7/50 - Perda treino: 0.5735, Perda validação: 0.5929\n",
            "Época 8/50 - Perda treino: 0.5288, Perda validação: 0.5751\n",
            "Época 9/50 - Perda treino: 0.5073, Perda validação: 0.5491\n",
            "Época 10/50 - Perda treino: 0.4932, Perda validação: 0.5299\n",
            "Época 11/50 - Perda treino: 0.4880, Perda validação: 0.5309\n",
            "Época 12/50 - Perda treino: 0.4792, Perda validação: 0.5245\n",
            "Época 13/50 - Perda treino: 0.4846, Perda validação: 0.5402\n",
            "Época 14/50 - Perda treino: 0.4769, Perda validação: 0.5094\n",
            "Época 15/50 - Perda treino: 0.4745, Perda validação: 0.5172\n",
            "Época 16/50 - Perda treino: 0.4616, Perda validação: 0.5085\n",
            "Época 17/50 - Perda treino: 0.4638, Perda validação: 0.5118\n",
            "Época 18/50 - Perda treino: 0.4566, Perda validação: 0.5244\n",
            "Época 19/50 - Perda treino: 0.4639, Perda validação: 0.5217\n",
            "Época 20/50 - Perda treino: 0.4549, Perda validação: 0.5081\n",
            "Época 21/50 - Perda treino: 0.4576, Perda validação: 0.5035\n",
            "Época 22/50 - Perda treino: 0.4502, Perda validação: 0.5108\n",
            "Época 23/50 - Perda treino: 0.4517, Perda validação: 0.5073\n",
            "Época 24/50 - Perda treino: 0.4476, Perda validação: 0.5180\n",
            "Época 25/50 - Perda treino: 0.4454, Perda validação: 0.5094\n",
            "Época 26/50 - Perda treino: 0.4397, Perda validação: 0.4952\n",
            "Época 27/50 - Perda treino: 0.4453, Perda validação: 0.5239\n",
            "Época 28/50 - Perda treino: 0.4439, Perda validação: 0.5028\n",
            "Época 29/50 - Perda treino: 0.4484, Perda validação: 0.5034\n",
            "Época 30/50 - Perda treino: 0.4363, Perda validação: 0.5378\n",
            "Época 31/50 - Perda treino: 0.4436, Perda validação: 0.5328\n",
            "Época 32/50 - Perda treino: 0.4456, Perda validação: 0.5079\n",
            "Época 33/50 - Perda treino: 0.4285, Perda validação: 0.5032\n",
            "Época 34/50 - Perda treino: 0.4367, Perda validação: 0.5084\n",
            "Época 35/50 - Perda treino: 0.4274, Perda validação: 0.5312\n",
            "Época 36/50 - Perda treino: 0.4311, Perda validação: 0.5064\n",
            "\n",
            "Parando treinamento após 36 épocas. Early Stopping ativado.\n",
            "Modelo carregado com os melhores pesos salvos!\n"
          ]
        }
      ]
    },
    {
      "cell_type": "code",
      "source": [
        "# Colocar o modelo em modo de avaliação\n",
        "model.eval()\n",
        "\n",
        "# Obter os 10 primeiros exemplos do conjunto de teste\n",
        "X_test_sample, y_test_sample = next(iter(test_loader))  # Pega o primeiro batch\n",
        "X_test_sample, y_test_sample = X_test_sample[:10].to(device), y_test_sample[:10].to(device)  # Seleciona os 10 primeiros\n",
        "\n",
        "# Fazer previsões\n",
        "with torch.no_grad():\n",
        "    y_test_pred_sample = model(X_test_sample)\n",
        "\n",
        "# Calcular a perda nos 10 primeiros exemplos\n",
        "loss_sample = criterion(y_test_pred_sample, y_test_sample).item()\n",
        "\n",
        "print(f\"Perda nos 10 primeiros exemplos do conjunto de teste: {loss_sample:.4f}\")\n",
        "\n",
        "# Mostrar previsões e valores reais\n",
        "print(\"\\nValores Reais:\", y_test_sample.cpu().numpy().flatten())\n",
        "print(\"Previsões:\", y_test_pred_sample.cpu().numpy().flatten())\n"
      ],
      "metadata": {
        "colab": {
          "base_uri": "https://localhost:8080/"
        },
        "id": "nhuNN-msyU7o",
        "outputId": "62dd21e5-22f6-4e1c-e36f-63ef2dd76724"
      },
      "execution_count": 86,
      "outputs": [
        {
          "output_type": "stream",
          "name": "stdout",
          "text": [
            "Perda nos 10 primeiros exemplos do conjunto de teste: 0.1444\n",
            "\n",
            "Valores Reais: [5. 7. 6. 5. 4. 6. 6. 6. 6. 6.]\n",
            "Previsões: [5.050444  6.6952543 6.330924  5.2746954 4.8724217 6.259461  5.774275\n",
            " 5.9681935 5.473256  5.9273844]\n"
          ]
        }
      ]
    },
    {
      "cell_type": "code",
      "source": [
        "# Caminho para salvar o modelo\n",
        "model_path = \"wine_quality_model.pth\"\n",
        "\n",
        "# Salvar os pesos do modelo\n",
        "torch.save(model.state_dict(), model_path)\n",
        "\n",
        "print(f\"Modelo salvo em: {model_path}\")"
      ],
      "metadata": {
        "colab": {
          "base_uri": "https://localhost:8080/"
        },
        "id": "LVRDV2zU2Mfc",
        "outputId": "49225e7d-7b30-454a-89f1-b3af804d93d8"
      },
      "execution_count": 87,
      "outputs": [
        {
          "output_type": "stream",
          "name": "stdout",
          "text": [
            "Modelo salvo em: wine_quality_model.pth\n"
          ]
        }
      ]
    },
    {
      "cell_type": "code",
      "source": [
        "# Fazer o download do modelo salvo\n",
        "# files.download(model_path)"
      ],
      "metadata": {
        "id": "J0G35djq2jLJ"
      },
      "execution_count": 88,
      "outputs": []
    }
  ]
}